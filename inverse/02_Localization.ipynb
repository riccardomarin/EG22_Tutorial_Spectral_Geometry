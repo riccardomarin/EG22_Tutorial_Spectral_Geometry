{
 "cells": [
  {
   "cell_type": "markdown",
   "id": "c22e56de",
   "metadata": {},
   "source": [
    "<a href=\"https://colab.research.google.com/github/riccardomarin/EG22_Tutorial_Spectral_Geometry/blob/main/inverse/02_Localization.ipynb\" target=\"_parent\"><img src=\"https://colab.research.google.com/assets/colab-badge.svg\" alt=\"Open In Colab\"/></a>"
   ]
  },
  {
   "cell_type": "markdown",
   "id": "6c681a9e",
   "metadata": {},
   "source": [
    "In this notebbok we will see how to exploit the relationship between eignvalues of the LBO under Dirichlet boundary conditions and eigenvalues of the hamiltonian operator to extract a portion of a surface.\n",
    "\n",
    "\n",
    "From: Rampini, Arianna, et al. \"Correspondence-free region localization for partial shape similarity via hamiltonian spectrum alignment.\" 2019 International Conference on 3D Vision (3DV). IEEE, 2019."
   ]
  },
  {
   "cell_type": "code",
   "execution_count": null,
   "id": "1c8d42de",
   "metadata": {},
   "outputs": [],
   "source": [
    "# !pip install plotly\n",
    "%load_ext autoreload\n",
    "%autoreload 2\n"
   ]
  },
  {
   "cell_type": "code",
   "execution_count": null,
   "id": "a212ce89",
   "metadata": {},
   "outputs": [],
   "source": [
    "%load_ext autoreload\n",
    "%autoreload 2\n",
    "\n",
    "import os\n",
    "os.environ[\"CUDA_VISIBLE_DEVICES\"] = \"1\""
   ]
  },
  {
   "cell_type": "code",
   "execution_count": null,
   "id": "e1df4e80",
   "metadata": {},
   "outputs": [],
   "source": [
    "import sys\n",
    "sys.path.append('../utils')\n",
    "    \n",
    "import numpy as np\n",
    "import torch\n",
    "\n",
    "import matplotlib.pyplot as plt\n",
    "\n",
    "import utils_mesh \n",
    "from utils_spectral import LB_cotan as lbo, Eigendecomposition as eigh"
   ]
  },
  {
   "cell_type": "markdown",
   "id": "d935a86b",
   "metadata": {},
   "source": [
    "We will try to \"localize\" the shape of Mickey Mouse on a portion of a plane just from its eigenvalues."
   ]
  },
  {
   "cell_type": "code",
   "execution_count": null,
   "id": "f8b96b10",
   "metadata": {},
   "outputs": [],
   "source": [
    "from PIL import Image, ImageOps\n",
    "\n",
    "im = ImageOps.grayscale(Image.open('../data/heart.png'))\n",
    "plt.imshow(im)\n",
    "print(im.size)\n",
    "\n",
    "im = im.resize((30,30))\n",
    "plt.imshow(im)\n",
    "print(im.size)"
   ]
  },
  {
   "cell_type": "markdown",
   "id": "0f9f8207",
   "metadata": {},
   "source": [
    "We tesselate the portion of the plane with a regular grid and the canonical meshing"
   ]
  },
  {
   "cell_type": "code",
   "execution_count": null,
   "id": "531cec38",
   "metadata": {},
   "outputs": [],
   "source": [
    "X,Y = np.meshgrid(np.linspace(0,1,30),np.linspace(0,1,30))\n",
    "VERT = torch.tensor(np.stack([X.flatten(),Y.flatten(),Y.flatten()*0],-1)).double()\n",
    "\n",
    "#generate canonical triangulation\n",
    "indexes = np.arange(X.size).reshape(X.shape)\n",
    "upper_left_tri = np.stack([indexes[:-1,:-1],indexes[:-1,1:],indexes[1:,:-1]],-1).reshape(-1,3)\n",
    "\n",
    "fig = utils_mesh.plot_colormap([VERT],[upper_left_tri],[None])\n",
    "fig.show()\n",
    "\n",
    "lower_right_tri = np.stack([indexes[:-1,1:],indexes[1:,1:],indexes[1:,:-1]],-1).reshape(-1,3)\n",
    "TRIV = torch.tensor(np.concatenate([upper_left_tri,lower_right_tri],0))\n",
    "fig = utils_mesh.plot_colormap([VERT],[TRIV],[None],wireframe=True)\n",
    "fig.show()\n"
   ]
  },
  {
   "cell_type": "markdown",
   "id": "8d2a0197",
   "metadata": {},
   "source": [
    "Now we use the potential to compute the eigenvalues of the laplacian corresponding to mickey with Dirichlet boundary conditions"
   ]
  },
  {
   "cell_type": "code",
   "execution_count": null,
   "id": "a29403d7",
   "metadata": {},
   "outputs": [],
   "source": [
    "k = 30\n",
    "\n",
    "def eig(S,invMass,k=20):\n",
    "    Lnorm = invMass[:,None]*S*invMass[None,:]\n",
    "    evecs, evals = eigh(Lnorm,k)\n",
    "    return evals, evecs\n",
    "\n",
    "stiff, lumped_mass = lbo(VERT,TRIV)\n",
    "inv_sqrt_mass = lumped_mass.rsqrt()\n",
    "evals2, evecs2 = eig(stiff,inv_sqrt_mass, k)\n",
    "\n",
    "mask = torch.tensor(np.array(im).flatten()).double()/255\n",
    "evals1,evecs1 = eig(stiff + torch.diag_embed(mask*1e9),inv_sqrt_mass, k)\n",
    "\n",
    "\n",
    "fig = utils_mesh.plot_colormap([VERT]*3,[TRIV]*3,[mask, evecs1[:,1], evecs1[:,2]])\n",
    "fig.show()\n",
    "\n",
    "fig = utils_mesh.plot_colormap([VERT]*3,[TRIV]*3,[mask, evecs2[:,1], evecs2[:,2]])\n",
    "fig.show()\n",
    "# evecs1.shape\n",
    "\n",
    "plt.plot(evals1)\n",
    "plt.plot(evals2)\n",
    "plt.show()"
   ]
  },
  {
   "cell_type": "code",
   "execution_count": null,
   "id": "e3da4849",
   "metadata": {},
   "outputs": [],
   "source": [
    "vinit = -torch.exp(-(VERT-0.5)[:,:2].norm(dim=-1)**0.5)*10# + torch.randn(VERT.shape[0])*1e-6\n",
    "fig = utils_mesh.plot_colormap([VERT],[TRIV],[vinit.tanh()+1])\n",
    "fig.show()"
   ]
  },
  {
   "cell_type": "markdown",
   "id": "112b7a5d",
   "metadata": {},
   "source": [
    "We are now ready to write down the optimization problem"
   ]
  },
  {
   "cell_type": "code",
   "execution_count": null,
   "id": "730239f4",
   "metadata": {
    "scrolled": true
   },
   "outputs": [],
   "source": [
    "import utils_spectral\n",
    "utils_spectral.USE_PYTORCH_SYMEIG=True\n",
    "# import torch\n",
    "# import time\n",
    "\n",
    "\n",
    "tau = 1e4\n",
    "ham = lambda v : eig(stiff + torch.diag_embed( (v.tanh()+1)*tau), inv_sqrt_mass, k)[0]\n",
    "\n",
    "\n",
    "v = torch.tensor(vinit.clone(), requires_grad=True)\n",
    "optimizer = torch.optim.Adam([v], lr=1e-1)\n",
    "target_evals = evals1.detach().clone()\n",
    "\n",
    "for t in range(300):\n",
    "    optimizer.zero_grad()\n",
    "    \n",
    "    evals = ham(v)\n",
    "    loss =  torch.sum(((evals-target_evals)/(target_evals))**2)\n",
    "\n",
    "#     torch.nn.utils.clip_grad_norm_([v], 1e-1)\n",
    "    \n",
    "    loss.backward()\n",
    "    optimizer.step()\n",
    "\n",
    "    if(t%10==0):\n",
    "        print(loss.item())\n"
   ]
  },
  {
   "cell_type": "markdown",
   "id": "db7f800b",
   "metadata": {},
   "source": [
    "Higher order optimization methods allows to reach better performance (even if it could take a while...)"
   ]
  },
  {
   "cell_type": "code",
   "execution_count": null,
   "id": "b974d71a",
   "metadata": {},
   "outputs": [],
   "source": [
    "import pymanopt\n",
    "from pymanopt import Problem\n",
    "from pymanopt.manifolds import Euclidean\n",
    "from pymanopt.solvers import TrustRegions\n",
    "\n",
    "\n",
    "# A solver that involves the hessian\n",
    "solver = TrustRegions(maxiter=5000,maxtime=5000)\n",
    "manifold = Euclidean(v.shape[0])\n",
    "\n",
    "@pymanopt.function.pytorch(manifold)\n",
    "def cost(v):\n",
    "    evals = ham(v)\n",
    "    loss =  torch.sum(((evals-target_evals)/(target_evals))**2)\n",
    "    return loss\n",
    "\n",
    "\n",
    "# Create the problem with extra cost function arguments\n",
    "problem = Problem(manifold=manifold, cost=cost,\n",
    "                  verbosity=2)\n",
    "\n",
    "wopt = solver.solve(problem,x=v.detach().numpy())"
   ]
  },
  {
   "cell_type": "code",
   "execution_count": null,
   "id": "ab4fe312",
   "metadata": {},
   "outputs": [],
   "source": [
    "v.data = torch.tensor(wopt)\n",
    "# v = torch.load('results/heart_loc.pt')\n",
    "\n",
    "print('Final loss: %.2e' % cost(v.data.numpy()))\n",
    "evals = ham(v)\n",
    "\n",
    "evals_o,evecs_o = eig(stiff + torch.diag_embed( (v.tanh()+1)*tau),inv_sqrt_mass,k)\n",
    "\n",
    "plt.plot(evals_o.data)\n",
    "plt.plot(target_evals.data)\n",
    "plt.show()\n",
    "plt.plot((target_evals-evals_o).data)\n",
    "# torch.save(v,'v.pt')"
   ]
  },
  {
   "cell_type": "code",
   "execution_count": null,
   "id": "1d74d570",
   "metadata": {},
   "outputs": [],
   "source": [
    "#show the optimized potential\n",
    "fig = utils_mesh.plot_colormap([VERT]*1,[TRIV]*1,[v])\n",
    "fig.show()\n",
    "\n",
    "#compare eigenvectors:\n",
    "fig = utils_mesh.plot_colormap([VERT]*3,[TRIV]*3,[evecs_o[:,1], evecs_o[:,2], evecs_o[:,11]])\n",
    "fig.show()\n",
    "\n",
    "fig = utils_mesh.plot_colormap([VERT]*3,[TRIV]*3,[evecs1[:,1], evecs1[:,2], evecs1[:,11]])\n",
    "fig.show()\n",
    "\n",
    "\n"
   ]
  }
 ],
 "metadata": {
  "kernelspec": {
   "display_name": "Python 3 (ipykernel)",
   "language": "python",
   "name": "python3"
  },
  "language_info": {
   "codemirror_mode": {
    "name": "ipython",
    "version": 3
   },
   "file_extension": ".py",
   "mimetype": "text/x-python",
   "name": "python",
   "nbconvert_exporter": "python",
   "pygments_lexer": "ipython3",
   "version": "3.8.11"
  }
 },
 "nbformat": 4,
 "nbformat_minor": 5
}
