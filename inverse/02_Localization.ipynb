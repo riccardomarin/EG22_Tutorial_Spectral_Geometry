{
  "cells": [
    {
      "cell_type": "markdown",
      "id": "c22e56de",
      "metadata": {
        "id": "c22e56de"
      },
      "source": [
        "<a href=\"https://colab.research.google.com/github/riccardomarin/Tutorial_Spectral_Geometry/blob/main/inverse/02_Localization.ipynb\" target=\"_parent\"><img src=\"https://colab.research.google.com/assets/colab-badge.svg\" alt=\"Open In Colab\"/></a>"
      ]
    },
    {
      "cell_type": "markdown",
      "id": "6c681a9e",
      "metadata": {
        "id": "6c681a9e"
      },
      "source": [
        "In this notebook we will see how to exploit the relationship between eignvalues of the LBO under Dirichlet boundary conditions and eigenvalues of the hamiltonian operator to extract a portion of a surface.\n",
        "\n",
        "\n",
        "References: \n",
        "* Rampini, Arianna, et al. \"Correspondence-free region localization for partial shape similarity via hamiltonian spectrum alignment.\" 2019 International Conference on 3D Vision (3DV). IEEE, 2019.\n",
        "\n",
        "Related repositories:\n",
        "* https://github.com/AriannaRampini/HamiltonianSpectrumAlignment"
      ]
    },
    {
      "cell_type": "code",
      "execution_count": null,
      "id": "tSF_B88z_rFX",
      "metadata": {
        "id": "tSF_B88z_rFX"
      },
      "outputs": [],
      "source": [
        "!git clone https://github.com/riccardomarin/Tutorial_Spectral_Geometry.git\n",
        "%cd Tutorial_Spectral_Geometry/inverse\n",
        "\n",
        "!pip install plyfile\n",
        "# !pip install --upgrade setuptools\n",
        "\n",
        "!pip install pymanopt\n",
        "# !git clone https://github.com/pymanopt/pymanopt.git\n",
        "# %cd pymanopt\n",
        "# !python setup.py build\n",
        "# !python setup.py install\n",
        "# %cd .."
      ]
    },
    {
      "cell_type": "code",
      "execution_count": null,
      "id": "a212ce89",
      "metadata": {
        "id": "a212ce89"
      },
      "outputs": [],
      "source": [
        "import os\n",
        "# os.environ[\"CUDA_VISIBLE_DEVICES\"] = \"-1\"\n",
        "DEVICE = 'cpu'"
      ]
    },
    {
      "cell_type": "code",
      "execution_count": null,
      "id": "e1df4e80",
      "metadata": {
        "id": "e1df4e80"
      },
      "outputs": [],
      "source": [
        "import sys\n",
        "sys.path.append('../utils')\n",
        "sys.path.append('./pymanopt')\n",
        "    \n",
        "import numpy as np\n",
        "import torch\n",
        "\n",
        "import matplotlib.pyplot as plt\n",
        "\n",
        "import utils_mesh \n",
        "from utils_spectral import LB_cotan as lbo, Eigendecomposition as eigh"
      ]
    },
    {
      "cell_type": "markdown",
      "id": "d935a86b",
      "metadata": {
        "id": "d935a86b"
      },
      "source": [
        "We will try to \"localize\" the shape of Heart on a portion of a plane just from its eigenvalues."
      ]
    },
    {
      "cell_type": "code",
      "execution_count": null,
      "id": "f8b96b10",
      "metadata": {
        "id": "f8b96b10"
      },
      "outputs": [],
      "source": [
        "from PIL import Image, ImageOps\n",
        "\n",
        "im = ImageOps.grayscale(Image.open('../data/heart.png'))\n",
        "plt.imshow(im)\n",
        "print(im.size)\n",
        "\n",
        "im = im.resize((30,30))\n",
        "plt.imshow(im)\n",
        "print(im.size)"
      ]
    },
    {
      "cell_type": "markdown",
      "id": "0f9f8207",
      "metadata": {
        "id": "0f9f8207"
      },
      "source": [
        "We tesselate the portion of the plane with a regular grid and the canonical meshing"
      ]
    },
    {
      "cell_type": "code",
      "execution_count": null,
      "id": "531cec38",
      "metadata": {
        "id": "531cec38"
      },
      "outputs": [],
      "source": [
        "X,Y = np.meshgrid(np.linspace(0,1,30),np.linspace(0,1,30))\n",
        "VERT = torch.tensor(np.stack([X.flatten(),Y.flatten(),Y.flatten()*0],-1)).double()\n",
        "\n",
        "#generate canonical triangulation\n",
        "indexes = np.arange(X.size).reshape(X.shape)\n",
        "upper_left_tri = np.stack([indexes[:-1,:-1],indexes[:-1,1:],indexes[1:,:-1]],-1).reshape(-1,3)\n",
        "\n",
        "fig = utils_mesh.plot_colormap([VERT],[upper_left_tri],[None])\n",
        "fig.show()\n",
        "\n",
        "lower_right_tri = np.stack([indexes[:-1,1:],indexes[1:,1:],indexes[1:,:-1]],-1).reshape(-1,3)\n",
        "TRIV = torch.tensor(np.concatenate([upper_left_tri,lower_right_tri],0))\n",
        "fig = utils_mesh.plot_colormap([VERT],[TRIV],[None],wireframe=True)\n",
        "fig.show()\n"
      ]
    },
    {
      "cell_type": "markdown",
      "id": "8d2a0197",
      "metadata": {
        "id": "8d2a0197"
      },
      "source": [
        "Now we use the potential to compute the eigenvalues of the Laplacian corresponding to the heart with Dirichlet boundary conditions.\n",
        "\n",
        "### Hamiltonian operator\n",
        "Given a potential function $v: \\mathcal{X} \\rightarrow \\mathbb{R}_{+}$ on the surface, the Hamiltonian can be defined in terms of the LBO operator $\\Delta_{\\mathcal{X}}$ and operates on a scalar function $f$ as:\n",
        "\n",
        "\\begin{align}\n",
        "H_{\\mathcal{X}}(v) f=\\Delta_{\\mathcal{X}} f+v f,\n",
        "\\end{align}\n",
        "\n",
        "Eigenvalues of the (discretized) Hamiltonian can be computed solving the generalized eigenvlues problem:\n",
        "\n",
        "\\begin{align}\n",
        "(\\mathbf{W}+\\mathbf{A} \\operatorname{diag}(\\mathbf{v})) \\boldsymbol{\\Psi}=\\mathbf{A} \\boldsymbol{\\Psi} \\operatorname{diag}(\\boldsymbol{\\lambda})\n",
        "\\end{align}\n",
        "\n",
        "with $\\Delta_{\\mathcal{X}} = \\mathbf{A}^{-1}\\mathbf{W}$\n",
        "\n",
        "\n",
        "### Relation with Dirichlet boundary conditions\n",
        "Given a sub-shape $\\mathcal{P}$ and an indicator function $v : \\mathcal{X} \\rightarrow \\{0,1\\}$ identifying the missing region on the full shape $\\mathcal{X}$, the following equality holds:\n",
        "\n",
        "\\begin{align}\n",
        "\\lambda \\left ( H_\\mathcal{X}( v\\tau ) \\right ) = \\lambda_{dir}\\Delta_{\\mathcal{P}}\n",
        "\\end{align}\n",
        "\n"
      ]
    },
    {
      "cell_type": "code",
      "execution_count": null,
      "id": "a29403d7",
      "metadata": {
        "id": "a29403d7"
      },
      "outputs": [],
      "source": [
        "k = 30\n",
        "\n",
        "def eig(S,invMass,k=20):\n",
        "    Lnorm = invMass[:,None]*S*invMass[None,:]\n",
        "    evecs, evals = eigh(Lnorm,k)\n",
        "    return evals, evecs\n",
        "\n",
        "stiff, lumped_mass = lbo(VERT,TRIV)\n",
        "inv_sqrt_mass = lumped_mass.rsqrt()\n",
        "evals2, evecs2 = eig(stiff,inv_sqrt_mass, k)\n",
        "\n",
        "mask = torch.tensor(np.array(im).flatten()).double()/255\n",
        "evals1,evecs1 = eig(stiff + torch.diag_embed(mask*1e9)*lumped_mass,inv_sqrt_mass, k)\n",
        "evecs1 = evecs1*lumped_mass[:,None]\n",
        "\n",
        "\n",
        "fig = utils_mesh.plot_colormap([VERT]*3,[TRIV]*3,[mask, evecs1[:,1], evecs1[:,2]])\n",
        "fig.show()\n",
        "\n",
        "fig = utils_mesh.plot_colormap([VERT]*3,[TRIV]*3,[mask, evecs2[:,1], evecs2[:,2]])\n",
        "fig.show()\n",
        "# evecs1.shape\n",
        "\n",
        "plt.plot(evals1)\n",
        "plt.plot(evals2)\n",
        "plt.show()"
      ]
    },
    {
      "cell_type": "code",
      "execution_count": null,
      "id": "e3da4849",
      "metadata": {
        "id": "e3da4849"
      },
      "outputs": [],
      "source": [
        "vinit = -torch.exp(-(VERT-0.5)[:,:2].norm(dim=-1)**0.5)*10# + torch.randn(VERT.shape[0])*1e-6\n",
        "fig = utils_mesh.plot_colormap([VERT],[TRIV],[vinit.tanh()+1])\n",
        "fig.show()"
      ]
    },
    {
      "cell_type": "markdown",
      "id": "112b7a5d",
      "metadata": {
        "id": "112b7a5d"
      },
      "source": [
        "We are now ready to write down the optimization problem"
      ]
    },
    {
      "cell_type": "code",
      "execution_count": null,
      "id": "730239f4",
      "metadata": {
        "id": "730239f4",
        "scrolled": true
      },
      "outputs": [],
      "source": [
        "tau = 1e4\n",
        "ham = lambda v : eig(stiff + torch.diag_embed( (v.tanh()+1)*tau)*lumped_mass, inv_sqrt_mass, k)[0]\n",
        "\n",
        "\n",
        "v = torch.tensor(vinit.clone(), requires_grad=True)\n",
        "optimizer = torch.optim.Adam([v], lr=1e-1)\n",
        "target_evals = evals1.detach().clone()\n",
        "\n",
        "for t in range(100):\n",
        "    optimizer.zero_grad()\n",
        "    \n",
        "    evals = ham(v)\n",
        "    loss =  torch.sum(((evals-target_evals)/(target_evals))**2)\n",
        "\n",
        "#     torch.nn.utils.clip_grad_norm_([v], 1e-1)\n",
        "    \n",
        "    loss.backward()\n",
        "    optimizer.step()\n",
        "\n",
        "    if(t%10==0):\n",
        "        print(loss.item())\n"
      ]
    },
    {
      "cell_type": "markdown",
      "id": "db7f800b",
      "metadata": {
        "id": "db7f800b"
      },
      "source": [
        "Higher order optimization methods allows to reach better performance (even if it could take a while...)"
      ]
    },
    {
      "cell_type": "code",
      "execution_count": null,
      "id": "b974d71a",
      "metadata": {
        "id": "b974d71a"
      },
      "outputs": [],
      "source": [
        "import pymanopt\n",
        "import pymanopt.function\n",
        "from pymanopt import Problem\n",
        "from pymanopt.manifolds import Euclidean\n",
        "from pymanopt.optimizers.trust_regions import TrustRegions\n",
        "\n",
        "\n",
        "# A solver that involves the hessian\n",
        "solver = TrustRegions(maxiter=5000,maxtime=5000)\n",
        "manifold = Euclidean(v.shape[0])\n",
        "\n",
        "@pymanopt.function.pytorch(manifold)\n",
        "def cost(v):\n",
        "    evals = ham(v)\n",
        "    loss =  torch.sum(((evals-target_evals)/(target_evals))**2)\n",
        "    return loss\n",
        "\n",
        "\n",
        "# Create the problem with extra cost function arguments\n",
        "problem = Problem(manifold=manifold, cost=cost)\n",
        "\n",
        "wopt = solver.run(problem,initial_point=v.detach().numpy())"
      ]
    },
    {
      "cell_type": "code",
      "execution_count": null,
      "id": "ab4fe312",
      "metadata": {
        "id": "ab4fe312"
      },
      "outputs": [],
      "source": [
        "v.data = torch.tensor(wopt.point)\n",
        "v = torch.load('results/heart_loc.pt')\n",
        "\n",
        "print('Final loss: %.2e' % cost(v.data.numpy()))\n",
        "evals_o = ham(v)\n",
        "\n",
        "evals_o,evecs_o = eig(stiff + torch.diag_embed( (v.tanh()+1)*tau)*lumped_mass,inv_sqrt_mass,k)\n",
        "evecs_o = evecs_o*lumped_mass[:,None]\n",
        "\n",
        "plt.plot(evals_o.data)\n",
        "plt.plot(target_evals.data)\n",
        "plt.show()\n",
        "plt.plot((target_evals-evals_o).data)\n",
        "# torch.save(v,'v.pt')\n",
        "\n",
        "# (tanh(a)+1)*t*lm = th(v)*t + t -> a = arctanh((th(v) + 1 - lm)/lm)"
      ]
    },
    {
      "cell_type": "code",
      "execution_count": null,
      "id": "1d74d570",
      "metadata": {
        "id": "1d74d570"
      },
      "outputs": [],
      "source": [
        "#show the optimized potential\n",
        "fig = utils_mesh.plot_colormap([VERT]*1,[TRIV]*1,[v])\n",
        "fig.show()\n",
        "\n",
        "#compare eigenvectors:\n",
        "fig = utils_mesh.plot_colormap([VERT]*3,[TRIV]*3,[evecs_o[:,1], evecs_o[:,2], evecs_o[:,10]])\n",
        "fig.show()\n",
        "\n",
        "fig = utils_mesh.plot_colormap([VERT]*3,[TRIV]*3,[evecs1[:,1], evecs1[:,2], evecs1[:,10]])\n",
        "fig.show()\n",
        "\n",
        "\n"
      ]
    }
  ],
  "metadata": {
    "accelerator": "GPU",
    "colab": {
      "collapsed_sections": [],
      "name": "02_Localization.ipynb",
      "provenance": [],
      "toc_visible": true
    },
    "kernelspec": {
      "display_name": "Python 3",
      "language": "python",
      "name": "python3"
    },
    "language_info": {
      "codemirror_mode": {
        "name": "ipython",
        "version": 3
      },
      "file_extension": ".py",
      "mimetype": "text/x-python",
      "name": "python",
      "nbconvert_exporter": "python",
      "pygments_lexer": "ipython3",
      "version": "3.7.5"
    }
  },
  "nbformat": 4,
  "nbformat_minor": 5
}
