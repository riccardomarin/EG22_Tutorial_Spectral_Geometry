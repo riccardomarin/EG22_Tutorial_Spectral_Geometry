{
 "cells": [
  {
   "cell_type": "markdown",
   "id": "d09b549d",
   "metadata": {
    "id": "d09b549d"
   },
   "source": [
    "<a href=\"https://colab.research.google.com/github/riccardomarin/Tutorial_Spectral_Geometry/blob/main/inverse/01_Isospectralization.ipynb\" target=\"_parent\"><img src=\"https://colab.research.google.com/assets/colab-badge.svg\" alt=\"Open In Colab\"/></a>"
   ]
  },
  {
   "cell_type": "markdown",
   "id": "b5a61160",
   "metadata": {
    "id": "b5a61160"
   },
   "source": [
    "In this notebook we will see tha application of some computational inverse geometry techniques to a couple of trivial examples.\n",
    "\n",
    "We want to solve the general optimization problem of:\n",
    "\n",
    "\\begin{align}\n",
    "\\arg\\min _{\\mathbf{X} \\in \\mathbb{R}^{n \\times d}}\\left\\|\\boldsymbol{\\lambda}\\left(\\boldsymbol{\\Delta}(\\mathbf{X})\\right)-\\boldsymbol{\\mu}\\right\\|_{\\omega}+\\rho_{X}(\\mathbf{X})\n",
    "\\end{align}\n",
    "\n",
    "References:\n",
    "* Cosmo, Luca, et al. \"Isospectralization, or how to hear shape, style, and correspondence.\" Proceedings of the IEEE/CVF Conference on Computer Vision and Pattern Recognition. 2019.\n",
    "\n",
    "Related repositories:\n",
    "* https://github.com/lcosmo/isospectralization\n",
    "* https://github.com/AriannaRampini/InverseSpectralGeometry_3DVTutorial"
   ]
  },
  {
   "cell_type": "code",
   "execution_count": null,
   "id": "OFu0_7c36WVQ",
   "metadata": {
    "colab": {
     "base_uri": "https://localhost:8080/"
    },
    "id": "OFu0_7c36WVQ",
    "outputId": "aea93327-efe8-4c55-922c-8df7a16bbde8"
   },
   "outputs": [],
   "source": [
    "!git clone https://github.com/riccardomarin/Tutorial_Spectral_Geometry.git\n",
    "%cd Tutorial_Spectral_Geometry/inverse\n",
    "\n",
    "!pip install plyfile"
   ]
  },
  {
   "cell_type": "code",
   "execution_count": null,
   "id": "a212ce89",
   "metadata": {
    "id": "a212ce89"
   },
   "outputs": [],
   "source": [
    "import os\n",
    "# os.environ[\"CUDA_VISIBLE_DEVICES\"] = \"-1\"\n",
    "DEVICE = 'cpu'"
   ]
  },
  {
   "cell_type": "code",
   "execution_count": null,
   "id": "e1df4e80",
   "metadata": {
    "id": "e1df4e80"
   },
   "outputs": [],
   "source": [
    "import sys\n",
    "sys.path.append('../utils')\n",
    "    \n",
    "import numpy as np\n",
    "import torch\n",
    "\n",
    "import utils_mesh \n",
    "from utils_spectral import LB_FEM_sparse as lbo, EigendecompositionSparse as eigh"
   ]
  },
  {
   "cell_type": "markdown",
   "id": "ffd02777",
   "metadata": {
    "id": "ffd02777"
   },
   "source": [
    "Few considerations on computing the gradient of the laplacian:\n",
    "* if we keep the connectivity of the mesh fixed, the LBO operator is differentiable with respect to the point positions. It is indeed expressed in terms of the lenght (or angles) of each edge, which is computed from the 3d coordinates of each point.\n",
    "\n",
    "* Eigenvalues of any matrix A are also differentiable with respect to the entries of the matrix\n",
    "\n",
    "* We can thus exploit autodifferntiation capabilities of torch (or the autodiff package you may prefer) to automatically compute the eigenvalues w.r.t. the points coordinates of the input mesh.\n",
    "\n",
    "Let's start with a trivial example..."
   ]
  },
  {
   "cell_type": "code",
   "execution_count": null,
   "id": "a0f19f67",
   "metadata": {
    "colab": {
     "base_uri": "https://localhost:8080/",
     "height": 542
    },
    "id": "a0f19f67",
    "outputId": "7358e683-8dff-4974-a34e-6c095ad1cc7f"
   },
   "outputs": [],
   "source": [
    "triangle_1 = torch.tensor([[0,0,0],[0,1,0],[1,0,0]]).double()\n",
    "triangle_2 = torch.tensor([[0,0,0],[0,2,0],[1,0,0]]).double()\n",
    "tri = torch.tensor([[0,1,2]])\n",
    "\n",
    "utils_mesh.plot_colormap([triangle_1,triangle_2],[tri]*2,[None]*2)"
   ]
  },
  {
   "cell_type": "markdown",
   "id": "23fab3a7",
   "metadata": {
    "id": "23fab3a7"
   },
   "source": [
    "We can compute and visualize the first eigenvectors and eigenvalues of the two tringular meshes"
   ]
  },
  {
   "cell_type": "code",
   "execution_count": null,
   "id": "078262f3",
   "metadata": {
    "colab": {
     "base_uri": "https://localhost:8080/",
     "height": 1000
    },
    "id": "078262f3",
    "outputId": "f69a15a8-329d-40d6-f70d-84365b3d59c3"
   },
   "outputs": [],
   "source": [
    "from utils_spectral import LB_cotan as lbo, Eigendecomposition as eigh\n",
    "\n",
    "stiff, lumped_mass = lbo(triangle_1,tri)\n",
    "\n",
    "#we have to convert the generalized eigendecomposition problem to the simpler eigendecomposition of hermitian matrices\n",
    "inv_sqrt_mass = lumped_mass.rsqrt()\n",
    "L1 = inv_sqrt_mass[:,None]*stiff*inv_sqrt_mass[None,:]\n",
    "evecs_1,evals_1 = eigh(L1,3)\n",
    "evecs_1 = evecs_1*inv_sqrt_mass[:,None]\n",
    "\n",
    "stiff, lumped_mass = lbo(triangle_2,tri)\n",
    "inv_sqrt_mass = lumped_mass.rsqrt()\n",
    "L2 = inv_sqrt_mass[:,None]*stiff*inv_sqrt_mass[None,:]\n",
    "evecs_2,evals_2 = eigh(L2,3)\n",
    "evecs_2 = evecs_2*inv_sqrt_mass[:,None]\n",
    "\n",
    "fig = utils_mesh.plot_colormap([triangle_1]*3,[tri]*3,[e for e in evecs_1])\n",
    "fig.show()\n",
    "\n",
    "fig = utils_mesh.plot_colormap([triangle_2]*3,[tri]*3,[e for e in evecs_2])\n",
    "fig.show()\n"
   ]
  },
  {
   "cell_type": "code",
   "execution_count": null,
   "id": "d2e83534",
   "metadata": {
    "colab": {
     "base_uri": "https://localhost:8080/",
     "height": 265
    },
    "id": "d2e83534",
    "outputId": "dbd083e9-a045-4476-d711-a290f251de68"
   },
   "outputs": [],
   "source": [
    "import matplotlib.pyplot as plt\n",
    "plt.plot(evals_1.data.cpu())\n",
    "plt.plot(evals_2.data.cpu())\n",
    "plt.show()\n"
   ]
  },
  {
   "cell_type": "markdown",
   "id": "438624cc",
   "metadata": {
    "id": "438624cc"
   },
   "source": [
    "### Can we deform triangle_2 into trinagle_1 just knowing the eigenvalues of traingle_1?\n",
    "Let's write down it as an optimization problem"
   ]
  },
  {
   "cell_type": "code",
   "execution_count": null,
   "id": "059b6a17",
   "metadata": {
    "colab": {
     "base_uri": "https://localhost:8080/"
    },
    "id": "059b6a17",
    "outputId": "1d32c69c-d33f-4f15-afb2-c3ef15c3987a"
   },
   "outputs": [],
   "source": [
    "target_evals = evals_1.detach().clone().to(DEVICE)\n",
    "\n",
    "X = torch.nn.Parameter(triangle_2.detach().clone().to(DEVICE)) # we start from the original vertex coordinates of triangle_2\n",
    "tri = tri.to(DEVICE)\n",
    "\n",
    "optimizer = torch.optim.Adam(params=[X],lr=5e-3)\n",
    "\n",
    "for i in range(1000): #we now enter the iterative optimization loop\n",
    "    optimizer.zero_grad() #usual pytorch code for gradient descent\n",
    "    \n",
    "    stiff, lumped_mass = lbo(X,tri)\n",
    "    inv_sqrt_mass = lumped_mass.rsqrt()\n",
    "    Lopt = inv_sqrt_mass[:,None]*stiff*inv_sqrt_mass[None,:]\n",
    "    _,evals_opt = eigh(Lopt,3)\n",
    "    \n",
    "    loss = torch.sum((evals_opt-target_evals)[1:]**2) #the first eigenvalue will always be almost 0\n",
    "    \n",
    "    loss.backward() #let's compute the gradient w.r.t. optimiziation parameters\n",
    "    \n",
    "#     print(X.grad)\n",
    "    if i %10==0:\n",
    "        print('Loss: %.2e' % loss)\n",
    "    \n",
    "    optimizer.step()#usual pytorch code for gradient descent"
   ]
  },
  {
   "cell_type": "code",
   "execution_count": null,
   "id": "4eda19de",
   "metadata": {
    "colab": {
     "base_uri": "https://localhost:8080/",
     "height": 265
    },
    "id": "4eda19de",
    "outputId": "7dab0ec6-9a91-42d9-9601-e659dab68b83"
   },
   "outputs": [],
   "source": [
    "import matplotlib.pyplot as plt\n",
    "plt.plot(evals_1.data.cpu(),'o')\n",
    "plt.plot(evals_opt.data.cpu(),'r')\n",
    "plt.plot(evals_2.data.cpu(),'b')\n",
    "plt.show()\n"
   ]
  },
  {
   "cell_type": "code",
   "execution_count": null,
   "id": "9cc78bc4",
   "metadata": {
    "colab": {
     "base_uri": "https://localhost:8080/",
     "height": 542
    },
    "id": "9cc78bc4",
    "outputId": "8a1d1487-6e76-41a0-f217-17dc55163325"
   },
   "outputs": [],
   "source": [
    "fig = utils_mesh.plot_colormap([triangle_2, X.data.cpu(), triangle_1],[tri]*3,[None]*3)\n",
    "fig.show()"
   ]
  },
  {
   "cell_type": "markdown",
   "id": "8fa26475",
   "metadata": {
    "id": "8fa26475"
   },
   "source": [
    "As we already discussed, in the general case isospectral != isometric.\n",
    "\n",
    "Moreover, you may have noticed that we are using just the first 3 eigenvalues of the triangle (we are limited by the first order FEM). Since the first eigenvalue is always null, we can fix just just 2 dof, while a generic triangle has 3.\n",
    "\n",
    "But what if we have some prior domain knowlege on the domain of the shape that we want to reconstruct?\n",
    "\n",
    "Assume, for instance, that we are interested in (almost) orthogonal triangles.\n",
    "we can encode this information as a regularizer (possibly an hard constraint) in the optimization problem:\n",
    "\n",
    "we want (x[2]-X[0]) to be orthogonal to (X[1]-X[0])"
   ]
  },
  {
   "cell_type": "code",
   "execution_count": null,
   "id": "9018d287",
   "metadata": {
    "colab": {
     "base_uri": "https://localhost:8080/"
    },
    "id": "9018d287",
    "outputId": "c8c3c523-eae8-4b30-ea9c-027ae60b83da"
   },
   "outputs": [],
   "source": [
    "target_evals = evals_1.detach().clone().to(DEVICE)\n",
    "\n",
    "X = torch.nn.Parameter(triangle_2.detach().clone().to(DEVICE)) # we start from the original vertex coordinates of triangle_2\n",
    "tri = tri.to(DEVICE)\n",
    "\n",
    "optimizer = torch.optim.Adam(params=[X],lr=1e-2)\n",
    "\n",
    "import time\n",
    "t=time.time()\n",
    "for i in range(2000): #we now enter the iterative optimization loop\n",
    "    optimizer.zero_grad() #usual pytorch code for gradient descent\n",
    "    \n",
    "    stiff, lumped_mass = lbo(X,tri)\n",
    "    inv_sqrt_mass = lumped_mass.rsqrt()\n",
    "    Lopt = inv_sqrt_mass[:,None]*stiff*inv_sqrt_mass[None,:]\n",
    "    _,evals_opt = eigh(Lopt,3)\n",
    "    \n",
    "    loss_eig = torch.sum((evals_opt-target_evals)[1:]**2) #the first eigenvalue will always be almost 0\n",
    "    loss_ortho = 1e2*torch.dot(X[2]-X[0], X[1]-X[0])**2\n",
    "    loss = loss_eig+loss_ortho\n",
    "    \n",
    "    loss.backward() #let's compute the gradient w.r.t. optimiziation parameters\n",
    "\n",
    "    optimizer.step()#usual pytorch code for gradient descent\n",
    "    if i %10==0:\n",
    "        print('Loss: %.2e' % loss)    \n",
    "    "
   ]
  },
  {
   "cell_type": "code",
   "execution_count": null,
   "id": "f640aed5",
   "metadata": {
    "colab": {
     "base_uri": "https://localhost:8080/",
     "height": 265
    },
    "id": "f640aed5",
    "outputId": "a3862968-343b-46f8-f695-85eb03f991e5"
   },
   "outputs": [],
   "source": [
    "import matplotlib.pyplot as plt\n",
    "plt.plot(evals_1.data.cpu(),'o')\n",
    "plt.plot(evals_opt.data.cpu(),'r')\n",
    "plt.plot(evals_2.data.cpu(),'b')\n",
    "plt.show()\n"
   ]
  },
  {
   "cell_type": "code",
   "execution_count": null,
   "id": "93c27d70",
   "metadata": {
    "colab": {
     "base_uri": "https://localhost:8080/",
     "height": 542
    },
    "id": "93c27d70",
    "outputId": "34388611-a04c-4ad4-a704-03b35609f5b3"
   },
   "outputs": [],
   "source": [
    "fig = utils_mesh.plot_colormap([triangle_2, X.data.cpu(), triangle_1],[tri]*3,[None]*3)\n",
    "fig.show()"
   ]
  },
  {
   "cell_type": "markdown",
   "id": "8ac1bff1",
   "metadata": {
    "id": "8ac1bff1"
   },
   "source": [
    "Attention: Rigid transformations are isoemtries.\n",
    "Have a look to the metric of the optimized triangle:"
   ]
  },
  {
   "cell_type": "code",
   "execution_count": null,
   "id": "3d0c44ea",
   "metadata": {
    "colab": {
     "base_uri": "https://localhost:8080/"
    },
    "id": "3d0c44ea",
    "outputId": "e5e13a26-bd60-48b4-ea0c-7a69b8818640"
   },
   "outputs": [],
   "source": [
    "#Let's check edge lengths:\n",
    "print(torch.norm(X[0]-X[1]))\n",
    "print(torch.norm(X[1]-X[2]))\n",
    "print(torch.norm(X[2]-X[0]))\n"
   ]
  },
  {
   "cell_type": "markdown",
   "id": "387ed9f6",
   "metadata": {
    "id": "387ed9f6"
   },
   "source": [
    "### A more interesting (and harder) example\n",
    "\n",
    "What about \"general\" planar shapes? "
   ]
  },
  {
   "cell_type": "code",
   "execution_count": null,
   "id": "6d998972",
   "metadata": {
    "colab": {
     "base_uri": "https://localhost:8080/",
     "height": 542
    },
    "id": "6d998972",
    "outputId": "5e712bbc-ae85-4a9f-98a6-e41229619e2a"
   },
   "outputs": [],
   "source": [
    "VERT1,TRIV1 = utils_mesh.load_ply('../data/mickey.ply')\n",
    "VERT2,TRIV2 = utils_mesh.load_ply('../data/oval.ply')\n",
    "\n",
    "VERT1 = torch.tensor(VERT1).double().to(DEVICE)\n",
    "VERT2 = torch.tensor(VERT2).double().to(DEVICE)\n",
    "TRIV1 = torch.tensor(TRIV1).long().to(DEVICE)\n",
    "TRIV2 = torch.tensor(TRIV2).long().to(DEVICE)\n",
    "\n",
    "fig = utils_mesh.plot_colormap([VERT1,VERT2],[TRIV1, TRIV2],[None]*2)\n",
    "fig.show()"
   ]
  },
  {
   "cell_type": "code",
   "execution_count": null,
   "id": "be14b873",
   "metadata": {
    "id": "be14b873"
   },
   "outputs": [],
   "source": [
    "from utils_spectral import LB_cotan as lbo, Eigendecomposition as eigh\n",
    "\n",
    "#how many eigenvalues do we wish to align? Higher eigenvalues are usually dominated by discretization noise\n",
    "k = 20\n",
    "\n",
    "stiff, lumped_mass = lbo(VERT1,TRIV1)\n",
    "inv_sqrt_mass = lumped_mass.rsqrt()\n",
    "L1 = inv_sqrt_mass[:,None]*stiff*inv_sqrt_mass[None,:]\n",
    "evecs_1,evals_1 = eigh(L1,k)\n",
    "\n",
    "stiff, lumped_mass = lbo(VERT2,TRIV2)\n",
    "inv_sqrt_mass = lumped_mass.rsqrt()\n",
    "L2 = inv_sqrt_mass[:,None]*stiff*inv_sqrt_mass[None,:]\n",
    "evecs_2,evals_2 = eigh(L2,k)\n",
    "\n",
    "#extract the vertex indexes for each edge of the mesh, it will be used later to compute edges' length \n",
    "edge_indexes2 = np.nonzero(stiff.data.cpu().triu(1))"
   ]
  },
  {
   "cell_type": "markdown",
   "id": "a34d310d",
   "metadata": {
    "id": "a34d310d"
   },
   "source": [
    "There are some problems we need to take care of in the optimization process:\n",
    "* Triangle flips should not be allowed\n",
    "* Very skewed triangles cause numerical instability (especially if using first order Laplacian approximation)"
   ]
  },
  {
   "cell_type": "code",
   "execution_count": null,
   "id": "f2351a9e",
   "metadata": {
    "colab": {
     "base_uri": "https://localhost:8080/"
    },
    "id": "f2351a9e",
    "outputId": "aa401208-88fe-485a-f734-2e734336d109",
    "scrolled": true
   },
   "outputs": [],
   "source": [
    "import torch.linalg\n",
    "from torch.nn.functional import normalize\n",
    "target_evals = evals_1.detach().clone()\n",
    "\n",
    "X = torch.nn.Parameter(VERT2.detach().clone().to(DEVICE)) # we start from the original vertex coordinates of triangle_2\n",
    "tri = TRIV2.to(DEVICE)\n",
    "\n",
    "optimizer = torch.optim.Adam(params=[X],lr=5e-3)\n",
    "\n",
    "for i in range(1000): #we now enter the iterative optimization loop\n",
    "    optimizer.zero_grad() #usual pytorch code for gradient descent\n",
    "    \n",
    "    stiff, lumped_mass = lbo(X,tri)\n",
    "    inv_sqrt_mass = lumped_mass.rsqrt()\n",
    "    Lopt = inv_sqrt_mass[:,None]*stiff*inv_sqrt_mass[None,:]\n",
    "    _,evals_opt = eigh(Lopt,k)\n",
    "\n",
    "    \n",
    "    loss = torch.sum((evals_opt-target_evals)[1:]**2/torch.arange(1,k).to(X.device)) #the first eigenvalue will always be almost 0\n",
    "    \n",
    "    #regularizers\n",
    "    \n",
    "    #triangle flips\n",
    "    tripts = X[tri]\n",
    "    loss_flip =  (torch.cross((-tripts[:,1,:]+tripts[:,0,:]),(tripts[:,2,:]-tripts[:,0,:]),dim=1)[:,-1]+1e-3).relu().pow(2).sum()\n",
    "    loss_flip += (torch.cross((-tripts[:,2,:]+tripts[:,1,:]),(tripts[:,0,:]-tripts[:,1,:]),dim=1)[:,-1]+1e-3).relu().pow(2).sum()\n",
    "    loss_flip += (torch.cross((-tripts[:,0,:]+tripts[:,2,:]),(tripts[:,1,:]-tripts[:,2,:]),dim=1)[:,-1]+1e-3).relu().pow(2).sum()\n",
    "    loss = loss + 1e5*loss_flip\n",
    "    \n",
    "    #edge length\n",
    "    loss_len = (X[edge_indexes2[:,0],:]-X[edge_indexes2[:,1],:]).pow(2).sum(-1).mean()\n",
    "    loss = loss  + 1e1*loss_len\n",
    "                         \n",
    "    \n",
    "    loss.backward() #let's compute the gradient w.r.t. optimiziation parameters\n",
    "    torch.nn.utils.clip_grad_norm_([X], 1e-3)\n",
    "#     print(X.grad)\n",
    "    if i %10==0:\n",
    "        print('Loss: %.2e' % loss)\n",
    "#         fig = utils_mesh.plot_colormap([ X.data.cpu()],[TRIV2]*3,[None]*3,wireframe=True)\n",
    "#         fig.show()\n",
    "#         print(time.time()-t)\n",
    "#         t=time.time()\n",
    "    optimizer.step()#usual pytorch code for gradient descent"
   ]
  },
  {
   "cell_type": "markdown",
   "id": "46a732e7",
   "metadata": {
    "id": "46a732e7"
   },
   "source": [
    "The initial triangulation is not always ideal for representing the target shape. Resampling the optimized shape every once in a while would help the optimization process."
   ]
  },
  {
   "cell_type": "code",
   "execution_count": null,
   "id": "b93538c8",
   "metadata": {
    "colab": {
     "base_uri": "https://localhost:8080/",
     "height": 542
    },
    "id": "b93538c8",
    "outputId": "de0ea3c3-75d9-4927-f052-716022a8f0a9"
   },
   "outputs": [],
   "source": [
    "# X = torch.load('results/mickey_opt.pt',map_location=torch.device(DEVICE))\n",
    "\n",
    "fig = utils_mesh.plot_colormap([ VERT1, X.data.cpu()],[TRIV1,TRIV2],[None]*2,wireframe=True)\n",
    "fig.show()"
   ]
  },
  {
   "cell_type": "markdown",
   "id": "abad4f43",
   "metadata": {
    "id": "abad4f43"
   },
   "source": [
    "## 3D Shapes"
   ]
  },
  {
   "cell_type": "code",
   "execution_count": null,
   "id": "4f35c52e",
   "metadata": {
    "colab": {
     "base_uri": "https://localhost:8080/",
     "height": 542
    },
    "id": "4f35c52e",
    "outputId": "a7c19c97-afd6-4393-dd0e-16fe048778a1"
   },
   "outputs": [],
   "source": [
    "VERT1,TRIV1 = utils_mesh.load_ply('../data/round_cuber_out.ply')\n",
    "VERT2,TRIV2 = utils_mesh.load_ply('../data/round_cuber.ply')\n",
    "\n",
    "VERT1 = torch.tensor(VERT1).double().to(DEVICE)\n",
    "VERT2 = torch.tensor(VERT2).double().to(DEVICE)\n",
    "TRIV1 = torch.tensor(TRIV1).long().to(DEVICE)\n",
    "TRIV2 = torch.tensor(TRIV2).long().to(DEVICE)\n",
    "\n",
    "fig = utils_mesh.plot_colormap([VERT1,VERT2],[TRIV1, TRIV2],[None]*2)\n",
    "fig.show()"
   ]
  },
  {
   "cell_type": "code",
   "execution_count": null,
   "id": "4afa991f",
   "metadata": {
    "id": "4afa991f"
   },
   "outputs": [],
   "source": [
    "k = 30\n",
    "\n",
    "stiff_1, lumped_mass_1 = lbo(VERT1,TRIV1)\n",
    "inv_sqrt_mass_1 = lumped_mass_1.rsqrt()\n",
    "L1 = inv_sqrt_mass_1[:,None]*stiff_1*inv_sqrt_mass_1[None,:]\n",
    "evecs_1,evals_1 = eigh(L1,k)\n",
    "\n",
    "stiff_2, lumped_mass_2 = lbo(VERT2,TRIV2)\n",
    "inv_sqrt_mass_2 = lumped_mass_2.rsqrt()\n",
    "L2 = inv_sqrt_mass_2[:,None]*stiff_2*inv_sqrt_mass_2[None,:]\n",
    "evecs_2,evals_2 = eigh(L2,k)"
   ]
  },
  {
   "cell_type": "markdown",
   "id": "4ab652f6",
   "metadata": {
    "id": "4ab652f6"
   },
   "source": [
    "###  Challenges of 3D shapes:\n",
    "* Even if triangle flips are not in general possible in a 3D embedding, ugly triangles and spikes are still a problem. We can alleviate this problem adding a smoothness prior.\n",
    "* In 3D shapes there exist many \"non-meaningful\" isometries. For instance, flipping any protuberation inside out is a valid isometry. "
   ]
  },
  {
   "cell_type": "code",
   "execution_count": null,
   "id": "f5e09cdc",
   "metadata": {
    "colab": {
     "base_uri": "https://localhost:8080/",
     "height": 1000
    },
    "id": "f5e09cdc",
    "outputId": "14737375-9602-4efc-b4e8-fd4f0d1eded9"
   },
   "outputs": [],
   "source": [
    "import torch.linalg\n",
    "from torch.nn.functional import normalize\n",
    "target_evals = evals_1.detach().clone()\n",
    "\n",
    "iX = VERT2.detach().clone().to(DEVICE)\n",
    "dX = torch.nn.Parameter((VERT2*0).detach().clone().to(DEVICE)) # we start from the original vertex coordinates of triangle_2\n",
    "tri = TRIV2.to(DEVICE)\n",
    "\n",
    "optimizer = torch.optim.Adam(params=[dX],lr=1e-3)\n",
    "\n",
    "for i in range(5000): #we now enter the iterative optimization loop\n",
    "    optimizer.zero_grad() #usual pytorch code for gradient descent\n",
    " \n",
    "    X = iX+dX\n",
    "    stiff_o, lumped_mass_o = lbo(X,tri)\n",
    "    inv_sqrt_mass_o = lumped_mass_o.rsqrt()\n",
    "    Lopt = inv_sqrt_mass_o[:,None]*stiff_o*inv_sqrt_mass_o[None,:]\n",
    "    _,evals_opt = eigh(Lopt,k)\n",
    "\n",
    "    \n",
    "    loss = torch.sum((evals_opt-target_evals)[1:]**2/torch.arange(1,k).to(X.device)) #the first eigenvalue will always be almost 0\n",
    "    \n",
    "    ## regularizers \n",
    "    \n",
    "    #curvature\n",
    "    loss_curv = 1e1*torch.norm((stiff_o)@dX)\n",
    "    loss = loss + loss_curv\n",
    "\n",
    "    #volume\n",
    "    tripts = X[tri]\n",
    "    cross =  torch.cross((tripts[:,1,:]-tripts[:,0,:]),(tripts[:,1,:]-tripts[:,2,:]),dim=1)\n",
    "    volume = 2e0*torch.sum(tripts.sum(1)*cross)\n",
    "    loss = loss-volume\n",
    "        \n",
    "    \n",
    "    loss.backward() #let's compute the gradient w.r.t. optimiziation parameters\n",
    "    torch.nn.utils.clip_grad_norm_([X], 1e-3)\n",
    "#     print(X.grad)\n",
    "    if i %10==0:\n",
    "        print('Loss: %.2e (%.2e)' % (loss,loss_curv))\n",
    "#         fig = utils_mesh.plot_colormap([ X.data.cpu()],[TRIV2]*3,[None]*3,wireframe=True)\n",
    "#         fig.show()\n",
    "#         print(time.time()-t)\n",
    "#         t=time.time()\n",
    "    optimizer.step()#usual pytorch code for gradient descent"
   ]
  },
  {
   "cell_type": "code",
   "execution_count": null,
   "id": "a3ef4e05",
   "metadata": {
    "colab": {
     "base_uri": "https://localhost:8080/",
     "height": 1000
    },
    "id": "a3ef4e05",
    "outputId": "0e920d4a-469f-4d3d-e169-5d747f6a2850",
    "scrolled": false
   },
   "outputs": [],
   "source": [
    "# X = torch.load('results/cube_noreg.pt',map_location=torch.device(DEVICE))\n",
    "X = torch.load('results/cube_res_all.pt',map_location=torch.device(DEVICE))\n",
    "# X = torch.load('results/cube_res_in.pt',map_location=torch.device(DEVICE))\n",
    "\n",
    "stiff_o, lumped_mass_o = lbo(X,tri)\n",
    "inv_sqrt_mass_o = lumped_mass_o.rsqrt()\n",
    "Lopt = inv_sqrt_mass_o[:,None]*stiff_o*inv_sqrt_mass_o[None,:]\n",
    "evecs_opt,evals_opt = eigh(Lopt,k)\n",
    "err = torch.norm(((inv_sqrt_mass_o[:,None]**2)*stiff_o)@dX,dim=-1)\n",
    "\n",
    "fig = utils_mesh.plot_colormap([ VERT1, X.data.cpu()],[TRIV1,TRIV2],[None,err],wireframe=True)\n",
    "fig.show()\n",
    "\n",
    "plt.plot(target_evals.detach().cpu())\n",
    "plt.plot(evals_opt.detach().cpu())\n",
    "plt.show()\n",
    "\n",
    "\n",
    "plt.plot(target_evals.detach().cpu()-evals_opt.detach().cpu())"
   ]
  },
  {
   "cell_type": "markdown",
   "id": "d698fd4a",
   "metadata": {
    "id": "d698fd4a"
   },
   "source": [
    "Also eigenvectors are now more similar"
   ]
  },
  {
   "cell_type": "code",
   "execution_count": null,
   "id": "0c040390",
   "metadata": {
    "id": "0c040390"
   },
   "outputs": [],
   "source": [
    "evecs_opt,evals_opt = eigh(Lopt,k)\n",
    "evecs_opt = evecs_opt * inv_sqrt_mass_o[:,None]\n",
    "\n",
    "evecs_1,evals_1 = eigh(L1,k)\n",
    "evecs_1 = evecs_1 * inv_sqrt_mass_1[:,None]\n",
    "\n",
    "evecs_2,evals_2 = eigh(L2,k)\n",
    "evecs_2 = evecs_2 * inv_sqrt_mass_2[:,None]\n",
    "\n",
    "print('Original eigenvectors')\n",
    "fig = utils_mesh.plot_colormap([VERT2]*3,[TRIV2]*3,[evecs_2[:,1],evecs_2[:,2],evecs_2[:,10]])\n",
    "fig.show()\n",
    "\n",
    "print('Optimized eigenvectors')\n",
    "fig = utils_mesh.plot_colormap([X.data.cpu()]*3,[TRIV2]*3,[evecs_opt[:,1],evecs_opt[:,2],evecs_opt[:,10]])\n",
    "fig.show()\n",
    "\n",
    "print('Target eigenvectors')\n",
    "fig = utils_mesh.plot_colormap([VERT1]*3,[TRIV1]*3,[evecs_1[:,1],evecs_1[:,2],evecs_1[:,10]])\n",
    "fig.show()\n"
   ]
  },
  {
   "cell_type": "markdown",
   "id": "c71bf118",
   "metadata": {
    "id": "c71bf118"
   },
   "source": [
    "This affects also the quality of the functional map, and can be used as a preconditioning step of the shapes to be matched."
   ]
  },
  {
   "cell_type": "code",
   "execution_count": null,
   "id": "3dcb0d28",
   "metadata": {
    "id": "3dcb0d28"
   },
   "outputs": [],
   "source": [
    "# CA=B\n",
    "# CA=psi*phi'\n",
    "\n",
    "C_before = (evecs_1.t()*lumped_mass_1[None,:])@evecs_2\n",
    "C_after  = (evecs_1.t()*lumped_mass_1[None,:])@evecs_opt\n",
    "\n",
    "\n",
    "fig, ax = plt.subplots(1,2,figsize=(10,6))\n",
    "ax[0].imshow(C_before.data.cpu().abs(),cmap=plt.get_cmap('Reds'))\n",
    "ax[0].set_title('before')\n",
    "ax[1].imshow(C_after.data.cpu().abs(),cmap=plt.get_cmap('Reds'))\n",
    "ax[1].set_title('after')\n",
    "\n",
    "plt.show()"
   ]
  }
 ],
 "metadata": {
  "colab": {
   "collapsed_sections": [],
   "name": "01_Isospectralization.ipynb",
   "provenance": [],
   "toc_visible": true
  },
  "kernelspec": {
   "display_name": "Python 3",
   "language": "python",
   "name": "python3"
  },
  "language_info": {
   "codemirror_mode": {
    "name": "ipython",
    "version": 3
   },
   "file_extension": ".py",
   "mimetype": "text/x-python",
   "name": "python",
   "nbconvert_exporter": "python",
   "pygments_lexer": "ipython3",
   "version": "3.7.5"
  }
 },
 "nbformat": 4,
 "nbformat_minor": 5
}
