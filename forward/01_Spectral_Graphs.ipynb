{
  "nbformat": 4,
  "nbformat_minor": 0,
  "metadata": {
    "colab": {
      "name": "01 - Spectral Graphs.ipynb",
      "provenance": [],
      "authorship_tag": "ABX9TyOGTaH0DkzUMr7AAS3ev+e0",
      "include_colab_link": true
    },
    "kernelspec": {
      "name": "python3",
      "display_name": "Python 3"
    },
    "language_info": {
      "name": "python"
    }
  },
  "cells": [
    {
      "cell_type": "markdown",
      "metadata": {
        "id": "view-in-github",
        "colab_type": "text"
      },
      "source": [
        "<a href=\"https://colab.research.google.com/github/riccardomarin/EG22_Tutorial_Spectral_Geometry/blob/main/forward/01_Spectral_Graphs.ipynb\" target=\"_parent\"><img src=\"https://colab.research.google.com/assets/colab-badge.svg\" alt=\"Open In Colab\"/></a>"
      ]
    },
    {
      "cell_type": "markdown",
      "source": [
        "In this notebook we will familiarize ourselves with the spectral concepts by applying them in a domain that is common in many Computer Science fields: the graphs!\n",
        "\n",
        "The Spectral Graph theory has a long story, and here we will build some intuitions to better understand when we will move on 3D surfaces."
      ],
      "metadata": {
        "id": "KM4mi5lSQ803"
      }
    },
    {
      "cell_type": "code",
      "execution_count": null,
      "metadata": {
        "id": "buqsyfyg-Jyu"
      },
      "outputs": [],
      "source": [
        "%matplotlib inline \n",
        "\n",
        "import numpy as np\n",
        "import networkx as nx\n",
        "import matplotlib.pyplot as plt\n",
        "import scipy.io as sio\n",
        "from sklearn.cluster import KMeans\n",
        "import cv2 \n",
        "\n",
        "!wget https://github.com/riccardomarin/EG22_Tutorial_Spectral_Geometry/raw/main/data/minnesota_g.mat"
      ]
    },
    {
      "cell_type": "markdown",
      "source": [
        "First of all we will build a chord Graph of 50 nodes."
      ],
      "metadata": {
        "id": "Kh_Wp0F_-UPl"
      }
    },
    {
      "cell_type": "code",
      "source": [
        "# 1: Building the adjacency matrix\n",
        "n = 50\n",
        "\n",
        "A = np.zeros((n, n))\n",
        "a = np.array([i for i in np.arange(1,n)]) \n",
        "A[np.arange(a.size),a] = 1\n",
        "\n",
        "# Enforcing symmetry\n",
        "A = np.logical_or(A, A.T).astype(np.int32)\n",
        "\n",
        "# It generates:\n",
        "# A = np.array([  [0,1,0,0,0],\n",
        "#                 [1,0,1,0,0],\n",
        "#                 [0,1,0,1,0],\n",
        "#                 [0,0,1,0,1],\n",
        "#                 [0,0,0,1,0]])"
      ],
      "metadata": {
        "id": "7hMRDQ9E-Qmd"
      },
      "execution_count": null,
      "outputs": []
    },
    {
      "cell_type": "markdown",
      "source": [
        "We compute the standard Graph Laplacian; the formula is $L = D - A$, where $A$ is the adjacency matrix, and $D$ is the diagonal matrix of the degrees:"
      ],
      "metadata": {
        "id": "22iHzHE8-fBy"
      }
    },
    {
      "cell_type": "code",
      "source": [
        "# 2: Computing the Laplacian\n",
        "# Vertex degree\n",
        "D = np.sum(A, axis=0)\n",
        "L = np.diag(D) - A"
      ],
      "metadata": {
        "id": "1SU4AmS9-cA7"
      },
      "execution_count": null,
      "outputs": []
    },
    {
      "cell_type": "markdown",
      "source": [
        "Now we can compute the spectral decomposition of the Laplacian"
      ],
      "metadata": {
        "id": "V6UDJ8MxAUHH"
      }
    },
    {
      "cell_type": "code",
      "source": [
        "# 3: Compute the eigenvectors\n",
        "evals, evecs = np.linalg.eigh(L)"
      ],
      "metadata": {
        "id": "Rrnl5iUnAXT4"
      },
      "execution_count": null,
      "outputs": []
    },
    {
      "cell_type": "markdown",
      "source": [
        "Visualizing the eigenvector and eigenvalues\n"
      ],
      "metadata": {
        "id": "WWaTEXFMAcpj"
      }
    },
    {
      "cell_type": "code",
      "source": [
        "# 4: Plot the graph with one eigenfunction\n",
        "eig_n = 1\n",
        "\n",
        "# Create a networkx Graph object starting from our adjacency matrix\n",
        "G = nx.from_numpy_matrix(A)\n",
        "\n",
        "# Nodes displacement for visualization\n",
        "pos = {i : np.asarray([i,0]) for i in np.arange(0,n)}\n",
        "\n",
        "# Visualizing the eig_n eigenfunction\n",
        "nx.draw(G, pos, node_color=evecs[:,eig_n] , node_size=40, cmap=plt.cm.bwr, vmin=np.min(evecs), vmax=np.max(evecs))\n",
        "plt.show()"
      ],
      "metadata": {
        "id": "OL89IHW9AhPx"
      },
      "execution_count": null,
      "outputs": []
    },
    {
      "cell_type": "markdown",
      "source": [
        "Eigenvalues are sorted increasingly."
      ],
      "metadata": {
        "id": "M35LeLthBLDp"
      }
    },
    {
      "cell_type": "code",
      "source": [
        "plt.plot(evals)"
      ],
      "metadata": {
        "id": "taIhQihKAxlF"
      },
      "execution_count": null,
      "outputs": []
    },
    {
      "cell_type": "markdown",
      "source": [
        "# Low Pass filtering"
      ],
      "metadata": {
        "id": "tdPTQzyIBYQH"
      }
    },
    {
      "cell_type": "markdown",
      "source": [
        "Since the eigenfunctions of the Laplacian provide an analougy with the Fourier Transform, we can use them as a basis to perform low-pass filtering of the functions."
      ],
      "metadata": {
        "id": "Bd7YB7PpTB87"
      }
    },
    {
      "cell_type": "markdown",
      "source": [
        "We define a discontinous function."
      ],
      "metadata": {
        "id": "DhkHYL4VTMqa"
      }
    },
    {
      "cell_type": "code",
      "source": [
        "# 4: Low pass filtering\n",
        "\n",
        "# Define a function\n",
        "f = np.ones(evecs.shape[0]) * -1\n",
        "f[15:25] = 1\n",
        "f[40:43] = 1\n",
        "nx.draw(G,pos, node_color=f, node_size=40, cmap=plt.cm.bwr, vmin=np.min(evecs), vmax=np.max(evecs))\n",
        "plt.show()"
      ],
      "metadata": {
        "id": "wb9SRLsABGxW"
      },
      "execution_count": null,
      "outputs": []
    },
    {
      "cell_type": "markdown",
      "source": [
        "Given a truncated basis $\\Phi$, to perform the function low-pass the operation is: $\\hat{f} = \\Phi \\Phi^{\\dagger} f$, where $\\Phi^{\\dagger}$ is the pseudoinverse. \n",
        "\n",
        "Since in our case $\\Phi$ is orthonormal, $\\Phi^{\\dagger} = \\Phi^T$. Test the reconstruction error at varying values of k."
      ],
      "metadata": {
        "id": "07aLzKf6V-9J"
      }
    },
    {
      "cell_type": "code",
      "source": [
        "k = 5\n",
        "\n",
        "# Truncating the basis\n",
        "evecs_trim = evecs[:,0:k]\n",
        "\n",
        "# Synthesis and analysis with truncated basis\n",
        "f_recon = np.matmul(evecs_trim, np.matmul(evecs_trim.T, f))\n",
        "\n",
        "# Computing the reconstruction error\n",
        "err = np.sqrt(np.sum(np.square(f_recon - f)))\n",
        "\n",
        "nx.draw(G,pos, node_color=f, node_size=40, cmap=plt.cm.bwr, vmin=np.min(evecs), vmax=np.max(evecs))\n",
        "plt.show()\n",
        "\n",
        "nx.draw(G,pos, node_color=f_recon, node_size=40, cmap=plt.cm.bwr, vmin=np.min(evecs), vmax=np.max(evecs))\n",
        "plt.title('Error: ' + \"{:10.3f}\".format(err))\n",
        "plt.show()"
      ],
      "metadata": {
        "id": "BF3hpRxLBcUt"
      },
      "execution_count": null,
      "outputs": []
    },
    {
      "cell_type": "markdown",
      "source": [
        "Let's load a more complex graph: the roadmap of the Minnesota."
      ],
      "metadata": {
        "id": "GCLR43G7Wj8J"
      }
    },
    {
      "cell_type": "code",
      "source": [
        "minnesota = sio.loadmat('minnesota_g.mat')"
      ],
      "metadata": {
        "id": "BAKeGeT9BxAd"
      },
      "execution_count": null,
      "outputs": []
    },
    {
      "cell_type": "markdown",
      "source": [
        "We compute the Laplacian and its spectrum"
      ],
      "metadata": {
        "id": "K7jWfzZ2WrKV"
      }
    },
    {
      "cell_type": "code",
      "source": [
        "D = np.sum(minnesota['A'], axis=0)\n",
        "L = np.diag(D).astype(np.int32) - minnesota['A'].astype(np.int32)\n",
        "\n",
        "evals_min, evecs_min = np.linalg.eigh(L)"
      ],
      "metadata": {
        "id": "LLWgRTvQN2oP"
      },
      "execution_count": null,
      "outputs": []
    },
    {
      "cell_type": "markdown",
      "source": [
        "We can visualize the eigenfunctions over the graph. Notice that the first two eigenfunctions are constant! This is due to disconnected components on a graph (i.e., the multiplicity of the $0$ eigenvalue equals the number of graph components, and each $0$ eigenvalue is associated with a constant function localized on the component)."
      ],
      "metadata": {
        "id": "AF64l0pGWuuH"
      }
    },
    {
      "cell_type": "code",
      "source": [
        "G = nx.from_numpy_matrix(minnesota['A'])\n",
        "pos = minnesota['pos']\n",
        "k = 2\n",
        "\n",
        "nx.draw(G,pos, node_color=evecs_min[:,k], node_size=10, cmap=plt.cm.bwr, vmin=np.min(evecs_min[:,k]), vmax=np.max(evecs_min[:,k]))\n",
        "plt.show()"
      ],
      "metadata": {
        "id": "_9_5hxbYOpc_"
      },
      "execution_count": null,
      "outputs": []
    },
    {
      "cell_type": "markdown",
      "source": [
        "We can also visualize the eigenvalues, noticing how they differ from the one of the chord graph."
      ],
      "metadata": {
        "id": "huYL6qbGXwuN"
      }
    },
    {
      "cell_type": "code",
      "source": [
        "plt.plot(evals_min)\n",
        "plt.title('Eigenvalues Minnesota')"
      ],
      "metadata": {
        "id": "QJLz4_7bzN91"
      },
      "execution_count": null,
      "outputs": []
    }
  ]
}